{
 "cells": [
  {
   "cell_type": "markdown",
   "source": [
    "## Introduction to Google Earth Engine\n",
    "\n",
    "Google Earth Engine is a cloud-based platform for geospatial analysis, enabling users to process large-scale datasets using Google's infrastructure. It offers multiple interfaces for interaction:\n",
    "\n",
    "- [Explorer](https://explorer.earthengine.google.com/)\n",
    "- [Code Editor](https://code.earthengine.google.com/)\n",
    "- [JavaScript API](https://github.com/google/earthengine-api/tree/master/javascript)\n",
    "- [Python API](https://github.com/google/earthengine-api/tree/master/python)\n",
    "### Open this Tutorial in Google Colab\n",
    "<a target=\"_blank\" href=\"https://colab.research.google.com/github/amirhszd/MachineLearning4RemoteSensing/blob/main/gee/gee_tutorial.ipynb\">\n",
    "  <img src=\"https://colab.research.google.com/assets/colab-badge.svg\" alt=\"Open In Colab\"/>\n",
    "</a>\n"
   ],
   "metadata": {
    "collapsed": false,
    "id": "Kfstl18d3v6X"
   }
  },
  {
   "cell_type": "markdown",
   "source": [
    "## Installing Google Earth Engine\n",
    "\n",
    "Use the following command to install Google Earth Engine (GEE) in your environment. It may already be pre-installed."
   ],
   "metadata": {
    "collapsed": false,
    "id": "1EPQ-OMs3v6Y"
   }
  },
  {
   "cell_type": "code",
   "execution_count": null,
   "outputs": [],
   "source": [
    "!pip install earthengine-api"
   ],
   "metadata": {
    "id": "Tp8Blxzp3v6Y"
   }
  },
  {
   "cell_type": "markdown",
   "source": [
    "#### Authenticating to Earth Engine\n",
    "\n",
    "To access Google Earth Engine (GEE), first sign up at [GEE Signup](https://signup.earthengine.google.com/).\n",
    "\n",
    "Authenticate yourself with Google Cloud to gain access to storage and other resources. Run the following code, which will open an authentication page in your browser.\n",
    "\n",
    "If this is your first time using GEE, you’ll need to create a new project. In the final step, you may also need to register for GEE.\n",
    "\n",
    "- Select **Unpaid** → **Organization**\n",
    "- After completing the process, click **Generate Token**\n",
    "- Copy and paste the token into the output field below.\n",
    "\n",
    "![authentication](aut.png)"
   ],
   "metadata": {
    "collapsed": false,
    "id": "q6Xy5qDe3v6Y"
   }
  },
  {
   "cell_type": "code",
   "execution_count": null,
   "outputs": [],
   "source": [
    "!earthengine authenticate"
   ],
   "metadata": {
    "id": "LiAXxUAf3v6Y"
   }
  },
  {
   "cell_type": "markdown",
   "source": [
    "#### Importing and Initializing Earth Engine\n",
    "\n",
    "Once authentication is complete, you can import the `ee` module and initialize Google Earth Engine in your environment. This step establishes a connection to the Earth Engine servers, allowing you to run geospatial computations.\n",
    "\n",
    "Use the following code to import and initialize Earth Engine:"
   ],
   "metadata": {
    "collapsed": false,
    "id": "6Ng6pBuD3v6Z"
   }
  },
  {
   "cell_type": "code",
   "execution_count": null,
   "outputs": [],
   "source": [
    "import ee\n",
    "ee.Initialize()"
   ],
   "metadata": {
    "id": "Vnt0ScNj3v6Z"
   }
  },
  {
   "cell_type": "markdown",
   "source": [
    "## Exploring GEE Assets and Datasets\n",
    "\n",
    "Now that we have initialized EE, lets explore various assets in Google Earth Engine (GEE) to familiarize ourselves with the different types of datasets available.\n",
    "\n",
    "You can browse GEE’s entire data catalog here:\n",
    "[**GEE Data Catalog**](https://developers.google.com/earth-engine/datasets)\n",
    "\n",
    "<img src=\"gee_dc.png\" alt=\"GEE Data Catalog\" width=\"400\">\n"
   ],
   "metadata": {
    "collapsed": false,
    "id": "mqfVE0lr3v6Z"
   }
  },
  {
   "cell_type": "markdown",
   "source": [
    "#### Common GEE Datasets\n",
    "\n",
    "Some of the key datasets available in Google Earth Engine (GEE) include:\n",
    "\n",
    "- **SRTM Digital Elevation Data**\n",
    "  [View Dataset](https://developers.google.com/earth-engine/datasets/catalog/CGIAR_SRTM90_V4)\n",
    "\n",
    "- **ESA World Cover Map**\n",
    "  [View Dataset](https://developers.google.com/earth-engine/datasets/catalog/ESA_WorldCover_v200)\n",
    "\n",
    "- **Sentinel-2 Multispectral Data**\n",
    "  [View Dataset](https://developers.google.com/earth-engine/datasets/catalog/COPERNICUS_S2_HARMONIZED)\n",
    "\n",
    "- **Landsat-9**\n",
    "  [View Dataset](https://developers.google.com/earth-engine/datasets/catalog/landsat-9)\n",
    "\n",
    "<img src=\"landsat.png\" alt=\"Landsat Data\" width=\"400\">\n",
    "\n",
    "When selecting **Landsat 9 Collection 2** data, you can view details such as availability, data provider, and a sample snippet.\n",
    "\n",
    "Further down the page, you’ll find:\n",
    "- **Description** of the dataset\n",
    "- **Bands** and how they can be accessed\n",
    "- **Properties** (metadata)\n",
    "- **Terms of Use**\n",
    "\n",
    "At the bottom, sample code is available for accessing the data using **JavaScript** and **Python** (if applicable)."
   ],
   "metadata": {
    "collapsed": false,
    "id": "l1JStdVC3v6Z"
   }
  },
  {
   "cell_type": "markdown",
   "source": [
    "## ImageCollection Object\n",
    "\n",
    "An **ImageCollection** is a time series or stack of images. You can load it using an Earth Engine collection ID or create one using:\n",
    "\n",
    "- `ee.ImageCollection()`\n",
    "- `ee.ImageCollection.fromImages()` (from a list of images)\n",
    "\n",
    "You can also merge existing collections to create new ones.\n",
    "\n",
    "#### Getting Information from an ImageCollection\n",
    "ImageCollections information can be printed to the console, but the output is limited to 5,000 elements. Below is an example of retrieving ImageCollection details programmatically."
   ],
   "metadata": {
    "collapsed": false,
    "id": "4AC2rnVd3v6Z"
   }
  },
  {
   "cell_type": "code",
   "execution_count": null,
   "outputs": [],
   "source": [
    "# Load the Landsat 9 Collection 2 TOA dataset\n",
    "collection = ee.ImageCollection('LANDSAT/LC09/C02/T1_TOA')\n",
    "\n",
    "# Get the total number of images in the collection\n",
    "total_count = collection.size().getInfo()\n",
    "print(f\"Total images in collection: {total_count}\")\n",
    "\n",
    "# Filter the collection for a specific date range\n",
    "filtered_collection = collection.filterDate('2022-03-01', '2022-08-01')\n",
    "\n",
    "# Get the number of images in the filtered collection\n",
    "filtered_count = filtered_collection.size().getInfo()\n",
    "print(f\"Images between 2021-03-01 and 2021-08-01 of the earth: {filtered_count}\")\n",
    "\n",
    "# Filter for a single day to see how many scenes were captured globally\n",
    "single_day_collection = collection.filterDate('2022-01-01', '2022-01-02')\n",
    "\n",
    "# Get the count of images for that day\n",
    "single_day_count = single_day_collection.size().getInfo()\n",
    "print(f\"Images captured on 2022-01-01 of the earth: {single_day_count}\")"
   ],
   "metadata": {
    "id": "E2v3Jm-v3v6Z"
   }
  },
  {
   "cell_type": "markdown",
   "source": [
    ".getInfo() converts an Earth Engine object (e.g., ee.Number, ee.Image, ee.Feature, ee.Dictionary) into a Python-native object (e.g., int, dict, list). It retrieves the object’s value from the Earth Engine server, making it accessible in Python.\n",
    "\n",
    "### Viewing Available Metadata\n",
    "Each image in an ImageCollection contains metadata (properties) that can be accessed. To check the metadata of an image, we can print its properties:\n"
   ],
   "metadata": {
    "collapsed": false,
    "id": "zj6IXG_o3v6Z"
   }
  },
  {
   "cell_type": "code",
   "execution_count": null,
   "outputs": [],
   "source": [
    "# Grabbing the first image of the collection\n",
    "first_image = collection.first()\n",
    "\n",
    "# Print the metadata (properties) of the image\n",
    "print(first_image.propertyNames().getInfo())\n",
    "\n",
    "# Could also do. Works the same way\n",
    "print(first_image.getInfo())"
   ],
   "metadata": {
    "id": "Hywygldo3v6Z"
   }
  },
  {
   "cell_type": "markdown",
   "source": [
    "### Filtering Using Metadata\n",
    "\n",
    "In addition to filtering by date, we can filter an **ImageCollection** based on specific metadata properties. Earth Engine provides several filtering options, including:\n",
    "\n",
    "- **Equal to (`ee.Filter.eq`)**\n",
    "- **Less than (`ee.Filter.lt`)**\n",
    "- **Greater than (`ee.Filter.gt`)**\n",
    "- **Less than or equal to (`ee.Filter.lte`)**\n",
    "- **Greater than or equal to (`ee.Filter.gte`)**"
   ],
   "metadata": {
    "collapsed": false,
    "id": "OTuywziI3v6Z"
   }
  },
  {
   "cell_type": "code",
   "execution_count": null,
   "outputs": [],
   "source": [
    "# Filter images with cloud cover less than 10%\n",
    "cloud_lt_10 = collection.filter(ee.Filter.lt('CLOUD_COVER', 20))\n",
    "count = cloud_lt_10.size().getInfo()\n",
    "print(count)"
   ],
   "metadata": {
    "id": "BM_yKZRg3v6Z"
   }
  },
  {
   "cell_type": "markdown",
   "source": [
    "### Sorting an ImageCollection\n",
    "\n",
    "In Earth Engine, we can **sort** an ImageCollection based on metadata properties using `.sort()`."
   ],
   "metadata": {
    "collapsed": false,
    "id": "-tDQm3TY3v6Z"
   }
  },
  {
   "cell_type": "code",
   "execution_count": null,
   "outputs": [],
   "source": [
    "# Sort the filtered collection by acquisition date (oldest to newest)\n",
    "sorted_by_date = collection.sort('system:time_start')\n",
    "\n",
    "# setting ascending=False, to get descending (big to small values)\n",
    "sorted_by_cloud_desc = collection.sort('CLOUD_COVER', False)"
   ],
   "metadata": {
    "id": "q4RzVSQE3v6Z"
   }
  },
  {
   "cell_type": "markdown",
   "source": [
    "### Filtering Images for a Specific Bounding Box\n",
    "\n",
    "To extract all images within a specific region, we use a **bounding box** defined by **longitude** and **latitude** in Google Earth Engine (GEE). (NOT LAT, LON)\n",
    "\n",
    "In GEE, we can create a bounding box using a **polygon**. A polygon is a vector geometry that defines an area of interest. We will talk more about other types of vector data in a bit.\n",
    "\n",
    "#### **Creating a Bounding Box**\n",
    "We define a polygon using the `ee.Geometry.Polygon()` function by specifying corner coordinates **(longitude, latitude)** and `.filterBounds(region)` command"
   ],
   "metadata": {
    "collapsed": false,
    "id": "2jTg3rUL3v6Z"
   }
  },
  {
   "cell_type": "code",
   "execution_count": null,
   "outputs": [],
   "source": [
    "# Define a bounding box (longitude, latitude)\n",
    "region = ee.Geometry.Polygon([\n",
    "    [[-120.0, 35.0],  # Bottom-left\n",
    "     [-120.0, 37.0],  # Top-left\n",
    "     [-118.0, 37.0],  # Top-right\n",
    "     [-118.0, 35.0]]  # Bottom-right\n",
    "])\n",
    "\n",
    "# Filter the Landsat 9 collection for this region\n",
    "collection = ee.ImageCollection('LANDSAT/LC09/C02/T1_L2') \\\n",
    "    .filterBounds(region)"
   ],
   "metadata": {
    "id": "jVo6F7Ox3v6Z"
   }
  },
  {
   "cell_type": "markdown",
   "source": [
    "### Viewing a Sample Image Using Geemap\n",
    "Now lets pick a range date and a speicifc bounds and use **Geemap**, a Python package for interactive visualization of Earth Engine datasets, to display a sample image."
   ],
   "metadata": {
    "collapsed": false,
    "id": "TLbB763L3v6Z"
   }
  },
  {
   "cell_type": "code",
   "execution_count": null,
   "outputs": [],
   "source": [
    "!pip install geemap\n",
    "import geemap"
   ],
   "metadata": {
    "id": "2KFDm2sg3v6Z"
   }
  },
  {
   "cell_type": "code",
   "execution_count": null,
   "outputs": [],
   "source": [
    "my_map = geemap.Map()\n",
    "image = ee.ImageCollection('LANDSAT/LC09/C02/T1_TOA').filterDate('2022-03-01', '2022-04-03').filterBounds(ee.Geometry.Polygon([\n",
    "    [[-120.0, 35.0],  # Bottom-left\n",
    "     [-120.0, 37.0],  # Top-left\n",
    "     [-118.0, 37.0],  # Top-right\n",
    "     [-118.0, 35.0]]  # Bottom-right\n",
    "])).first()\n",
    "my_map.addLayer(image, {\"bands\": [\"B4\", \"B3\", \"B2\"]}, \"Landsat 9\")\n",
    "my_map"
   ],
   "metadata": {
    "id": "ESj-_nCx3v6Z"
   }
  },
  {
   "cell_type": "markdown",
   "source": [
    "### Iterating Through an ImageCollection in Google Earth Engine\n",
    "\n",
    "`ImageCollection` does not support direct iteration in Python. To process images one by one, we convert the `ImageCollection` into a list using `.toList()`, which allows access to individual images sequentially.\n",
    "\n",
    "#### Steps to Iterate Through an ImageCollection:\n",
    "1. **Filter the ImageCollection**: Use `.filterDate()` and `.filterBounds()` to define a specific subset of images.\n",
    "2. **Convert to a List**: Use `.toList(image_collection.size())` to create a list of images.\n",
    "3. **Iterate Over the List**: Use a loop to extract each image, get its date, and optionally visualize it."
   ],
   "metadata": {
    "collapsed": false,
    "id": "nya-Z9SE3v6Z"
   }
  },
  {
   "cell_type": "code",
   "execution_count": null,
   "outputs": [],
   "source": [
    "collection = ee.ImageCollection('LANDSAT/LC09/C02/T1_TOA') \\\n",
    "    .filterDate('2022-03-01', '2022-04-03') \\\n",
    "    .filterBounds(ee.Geometry.Polygon([\n",
    "        [[-120.0, 35.0],  # Bottom-left\n",
    "         [-120.0, 37.0],  # Top-left\n",
    "         [-118.0, 37.0],  # Top-right\n",
    "         [-118.0, 35.0]]  # Bottom-right\n",
    "    ]))\n",
    "\n",
    "# Converting the collection to an ee.List (not a Python list) and determining its size\n",
    "# You can't have it as a python list because python list is local and EE is on server.\n",
    "image_list = collection.toList(collection.size())\n",
    "\n",
    "for index in range(image_list.size().getInfo()):  # Get size in Python\n",
    "    image = ee.Image(image_list.get(index))  # Extract image from list\n",
    "    cc = image.get(\"CLOUD_COVER\").getInfo()  # Get cloud cover property\n",
    "    print(cc)  # Print cloud cover"
   ],
   "metadata": {
    "id": "xfCB_GjY3v6a"
   }
  },
  {
   "cell_type": "markdown",
   "source": [
    "## Image Object\n",
    "\n",
    "An `ee.Image` represents a single image in Google Earth Engine, which contains multiple bands. It allows us to perform various operations such as:\n",
    "\n",
    "- **Selecting Bands: `.select()`** – Extract specific bands from an image.\n",
    "- **Viewing Projection Information: `.projection()`** – Check an image’s coordinate reference system and projection details.\n",
    "- **Reprojecting & Rescaling: `.reproject()` and `.reduceResolution()`** – Convert to different coordinate systems and change the scale (ground sampling distance).\n",
    "- **Performing Operations Between Bands: `.expression()`** – Compute band-based mathematical operations.\n",
    "- **Computing Normalized Difference: `.normalizedDifference()`** – Calculate NDVI or other indices.\n",
    "- **Applying Kernels: `.convolve()` with `ee.Kernel`** – Perform edge detection or smoothing.\n",
    "- **Exporting to NumPy: `geemap.export_to_numpy()`** – Convert image data to a NumPy array (limited pixels).\n",
    "- **Downloading Images: `geemap.download_ee_image()`** – Download full images for local processing.\n",
    "\n",
    "---"
   ],
   "metadata": {
    "collapsed": false,
    "id": "xk-TsyN53v6a"
   }
  },
  {
   "cell_type": "markdown",
   "source": [
    "#### **Retrieving the Projection of an Image in Google Earth Engine**\n",
    "\n",
    "**What is a Projection?**\n",
    "A **projection** defines how spatial data is represented on a flat surface. It includes:\n",
    "- **Coordinate Reference System (CRS)** → Specifies the spatial reference (e.g., EPSG:4326 for WGS84).\n",
    "- **Affine Transform** → Describes how pixel coordinates relate to geographic coordinates.\n",
    "- **Scale (Ground Sampling Distance - GSD)** → Defines the pixel resolution in meters.\n",
    "\n",
    "\n",
    "Understanding the Output\n",
    "\t•\tCRS (EPSG:32628) → The spatial reference system (UTM Zone 28N, WGS84).\n",
    "\t•\tTransform: [30, 0, 340185, 0, -30, 8808615]\n",
    "\t•\t30 → Pixel width (X resolution in meters)\n",
    "\t•\t0 → Shear in the X direction (0 means no skew)\n",
    "\t•\t340185 → Upper-left corner X coordinate (Easting)\n",
    "\t•\t0 → Shear in the Y direction\n",
    "\t•\t-30 → Pixel height (negative means north-up)\n",
    "\t•\t8808615 → Upper-left corner Y coordinate (Northing)"
   ],
   "metadata": {
    "collapsed": false,
    "id": "iQvYKwoa3v6a"
   }
  },
  {
   "cell_type": "code",
   "execution_count": null,
   "outputs": [],
   "source": [
    "### SELECTING A BAND AND GETTING PROJECTION\n",
    "# selecting a band and getting the projection\n",
    "image = ee.Image('LANDSAT/LC09/C02/T1_TOA/LC09_228010_20230328')\n",
    "\n",
    "# Select the Red band (B4)\n",
    "red_band = image.select('B4')\n",
    "\n",
    "# Get and print the projection information\n",
    "projection = red_band.projection()\n",
    "print(projection.getInfo())\n",
    "\n",
    "# the output represents the CRS (coordiante Reference system), transform which includes\n",
    "# x_gds (pixel width), pixel shear in x_direction, upper left corner easting, y_gsd (pixel height), upper left corner northing. All in meters\n",
    "\n",
    "### getting the native rsolution (scale) in meters\n",
    "#You can also get the scale of an image as a property using\n",
    "scale = image.projection().nominalScale()\n",
    "print(scale)"
   ],
   "metadata": {
    "id": "0Ae0MWnj3v6a"
   }
  },
  {
   "cell_type": "markdown",
   "source": [
    "#### **Reprojection and Rescaling in Google Earth Engine**\n",
    "\n",
    "Reprojection and rescaling using **Nearest Neighbor interpolation** can be done directly with the `.reproject()` function.\n",
    "\n",
    "If a **different resampling method** is required, it must be specified using `.resample()` **before** applying `.reproject()`.\n",
    "\n",
    "✅ .reproject() alone defaults to Nearest Neighbor resampling.\n",
    "✅ To use a different method, apply .resample() before .reproject().\n",
    "✅ Supported resampling methods: \"nearest\" (default), \"bilinear\", \"bicubic\"."
   ],
   "metadata": {
    "collapsed": false,
    "id": "qTjTEDH_3v6a"
   }
  },
  {
   "cell_type": "code",
   "execution_count": null,
   "outputs": [],
   "source": [
    "# grabbing an image\n",
    "image = ee.ImageCollection('LANDSAT/LC09/C02/T1_TOA').filterDate('2022-03-01', '2022-04-03').filterBounds(ee.Geometry.Polygon([\n",
    "    [[-120.0, 35.0],  # Bottom-left\n",
    "     [-120.0, 37.0],  # Top-left\n",
    "     [-118.0, 37.0],  # Top-right\n",
    "     [-118.0, 35.0]]  # Bottom-right\n",
    "])).first()\n",
    "\n",
    "### REPROJECTION + RESAMPLING using Nearest Neighbour\n",
    "# use Reproject to change CRS and scale USING NEAREST\n",
    "image_wgs = image.reproject(crs='EPSG:4326', scale=100)\n",
    "\n",
    "### REPROJECTION + RESAMPLING using \"bilinear\" or \"bicubic\"\n",
    "# if you want to resample to a specific method use resample before reproject\n",
    "image = image.resample(\"bicubic\")\n",
    "image_wgs_bicubic = image.reproject(crs='EPSG:4326', scale=100)\n",
    "\n",
    "# Compute the difference image\n",
    "diff_image = image_wgs.select(\"B4\").subtract(image_wgs_bicubic.select(\"B4\"))\n",
    "\n",
    "# Compute mean difference over the entire image using reduce\n",
    "mean_difference = diff_image.reduceRegion(\n",
    "    reducer=ee.Reducer.mean(),\n",
    "    geometry=image.geometry())\n",
    "\n",
    "# Print the mean difference\n",
    "print(mean_difference.getInfo())"
   ],
   "metadata": {
    "id": "vogdobjE3v6a"
   }
  },
  {
   "cell_type": "markdown",
   "source": [
    "#### **Using Expression to Calculate NDVI in Google Earth Engine**\n",
    "\n",
    "**Using `.expression()` for Band Math**\n",
    "In Google Earth Engine (GEE), **`.expression()`** allows defining formulas directly on image bands, similar to **Band Math in ENVI**. Make sure to rename the created image after.\n",
    "\n",
    "**What is NDVI?**\n",
    "**Normalized Difference Vegetation Index (NDVI)** is a commonly used index for analyzing vegetation health. It is calculated using the **Near-Infrared (NIR) and Red bands** of satellite imagery:\n",
    "\n",
    "\\[\n",
    "NDVI = \\frac{(NIR - RED)}{(NIR + RED)}\n",
    "\\]\n",
    "\n",
    "- **NIR (Near-Infrared, Band 5 in Landsat 9)** → Strongly reflected by healthy vegetation.\n",
    "- **RED (Red, Band 4 in Landsat 9)** → Absorbed by chlorophyll in vegetation.\n",
    "\n",
    "A higher NDVI value indicates **healthier vegetation**, while lower values suggest **water, bare soil, or unhealthy vegetation**."
   ],
   "metadata": {
    "collapsed": false,
    "id": "Ybb_saFG3v6a"
   }
  },
  {
   "cell_type": "code",
   "execution_count": null,
   "outputs": [],
   "source": [
    "# Load a Landsat 9 image\n",
    "image = ee.ImageCollection('LANDSAT/LC09/C02/T1_TOA').filterDate('2022-03-01', '2022-04-03').filterBounds(ee.Geometry.Polygon([\n",
    "    [[-120.0, 35.0],  # Bottom-left\n",
    "     [-120.0, 37.0],  # Top-left\n",
    "     [-118.0, 37.0],  # Top-right\n",
    "     [-118.0, 35.0]]  # Bottom-right\n",
    "])).first()\n",
    "\n",
    "# Compute NDVI using the standard formula: (NIR - RED) / (NIR + RED)\n",
    "ndvi = image.expression(\n",
    "    '(NIR - RED) / (NIR + RED)',\n",
    "    {\n",
    "        'NIR': image.select('B5'),  # Near-Infrared Band\n",
    "        'RED': image.select('B4')   # Red Band\n",
    "    }\n",
    ")\n",
    "\n",
    "ndvi = ndvi.rename('NDVI')  # Rename the output band to 'NDVI'\n",
    "\n",
    "# Create an interactive map\n",
    "my_map = geemap.Map()\n",
    "\n",
    "# Add the NDVI layer to the map\n",
    "my_map.addLayer(ndvi, {\"bands\": [\"NDVI\"]}, \"NDVI\")\n",
    "\n",
    "# display map\n",
    "my_map"
   ],
   "metadata": {
    "id": "UqznKHuu3v6a",
    "outputId": "21cb05fd-219c-44d1-e48d-f66f3af41619"
   }
  },
  {
   "cell_type": "markdown",
   "source": [
    "#### **Downloading Data in Google Earth Engine Using Geemap**\n",
    "\n",
    "Data can be downloaded using **`geemap.ee_to_numpy()`** or **`geemap.download_ee_image()`**, each with its own advantages and limitations.\n",
    "\n",
    "**1. `ee_to_numpy()`**\n",
    "- Converts the image to a **NumPy array**.\n",
    "- **Faster**, but has a **pixel limit**, making it unsuitable for large datasets.\n",
    "\n",
    "**2. `download_ee_image()`**\n",
    "- Downloads the image **directly to the computer**.\n",
    "- Can handle **larger images**, but **slower** due to file transfer.\n",
    "- Requires a **separate library (e.g., `rasterio`)** to load the image after downloading, adding extra processing time.\n",
    "\n",
    "You could also download an etnire image colleciton if you want using ee_export_image_collection()."
   ],
   "metadata": {
    "collapsed": false,
    "id": "8aSZy7dX3v6a"
   }
  },
  {
   "cell_type": "code",
   "execution_count": null,
   "outputs": [],
   "source": [
    "import geemap\n",
    "# Load a Landsat 9 image within a specific date range and geographic area\n",
    "roi = ee.Geometry.Polygon([\n",
    "        [[-120.0, 35.0],  # Bottom-left\n",
    "         [-120.0, 35.1],  # Top-left\n",
    "         [-119.9, 35.1],  # Top-right\n",
    "         [-119.9, 35.0]]  # Bottom-right\n",
    "    ])\n",
    "landsat_image = ee.ImageCollection('LANDSAT/LC09/C02/T1_TOA') \\\n",
    "    .filterDate('2022-03-01', '2022-04-03') \\\n",
    "    .filterBounds(roi).first().select([\"B4\"])\n",
    "\n",
    "# Export image as a NumPy array\n",
    "array = geemap.ee_to_numpy(image, region=roi, bands = [\"B4\"])\n",
    "print(array.shape)\n"
   ],
   "metadata": {
    "id": "QiIgPKxt3v6a"
   }
  },
  {
   "cell_type": "markdown",
   "source": [
    "## **Reducers**\n",
    "\n",
    "Now that we have covered **image collections** and **individual images**, let's move on to **reducers**.\n",
    "\n",
    "**What Are Reducers?**\n",
    "Reducers in Google Earth Engine are used to **aggregate data** across **time, space, bands, arrays, and other data structures**. They allow us to summarize large datasets into meaningful statistics.\n",
    "\n",
    "**Using the `ee.Reducer` Class**\n",
    "The `ee.Reducer` class defines how data is aggregated. Reducers can compute **simple statistical summaries** such as:\n",
    "- **Minimum, Maximum, Mean, Median, Standard Deviation**\n",
    "\n",
    "Or **more complex summaries**, including:\n",
    "- **Histograms, Linear Regression, Lists of values**\n",
    "\n",
    "Reducers can be applied in different ways depending on what data needs to be aggregated:\n",
    "\n",
    "| **Reduction Type** | **Method Used** | **Description** |\n",
    "|--------------------|----------------|-----------------|\n",
    "| **Over Time** | `imageCollection.reduce()` | Aggregates images over a time series (e.g., mean of NDVI over time). |\n",
    "| **Over Space** | `image.reduceRegion()` | Aggregates values over a specific region (e.g., mean temperature in a polygon). |\n",
    "| **Neighborhoods** | `image.reduceNeighborhood()` | Aggregates values within a moving window (e.g., smoothing with local mean). |\n",
    "| **Across Bands** | `image.reduce()` | Aggregates multiple spectral bands within a single image (e.g., mean of selected bands). |\n"
   ],
   "metadata": {
    "collapsed": false,
    "id": "nDpMyTqZ3v6a"
   }
  },
  {
   "cell_type": "markdown",
   "source": [
    "#### **Statistical Reducers in Google Earth Engine**\n",
    "\n",
    "Statistical reducers in Google Earth Engine allow you to compute **summary statistics** over images, image collections, or regions. These reducers can be **combined** using the `.combine()` function, enabling multiple statistical calculations in a single operation.\n",
    "\n",
    "**Common Statistical Reducers**\n",
    "Google Earth Engine provides several built-in reducers, including:\n",
    "\n",
    "- **`ee.Reducer.mean()`** → Computes the mean (average) value.\n",
    "- **`ee.Reducer.median()`** → Computes the median value.\n",
    "- **`ee.Reducer.min()`** → Finds the minimum value.\n",
    "- **`ee.Reducer.max()`** → Finds the maximum value.\n",
    "- **`ee.Reducer.stdDev()`** → Computes the standard deviation.\n",
    "- **`ee.Reducer.sum()`** → Computes the sum of values.\n",
    "- **`ee.Reducer.count()`** → Counts the number of non-null values.\n",
    "- **`ee.Reducer.histogram()`** → Creates a histogram of values.\n",
    "- **`ee.Reducer.percentile([percentiles])`** → Computes specific percentiles.\n",
    "\n",
    "Multiple reducers can be combined using **`.combine()`**."
   ],
   "metadata": {
    "collapsed": false,
    "id": "ae5vECWC3v6b"
   }
  },
  {
   "cell_type": "code",
   "execution_count": null,
   "outputs": [],
   "source": [
    "from pprint import pprint\n",
    "\n",
    "# Load a Landsat 9 image within a specific date range and geographic area\n",
    "landsat_image = ee.ImageCollection('LANDSAT/LC09/C02/T1_TOA') \\\n",
    "    .filterDate('2022-03-01', '2022-04-03') \\\n",
    "    .filterBounds(ee.Geometry.Polygon([\n",
    "        [[-120.0, 35.0],  # Bottom-left\n",
    "         [-120.0, 37.0],  # Top-left\n",
    "         [-118.0, 37.0],  # Top-right\n",
    "         [-118.0, 35.0]]  # Bottom-right\n",
    "    ])).first()\n",
    "\n",
    "# Define a reducer that calculates both mean and standard deviation\n",
    "combined_reducer = ee.Reducer.mean().combine(\n",
    "    reducer2=ee.Reducer.stdDev(),\n",
    "    sharedInputs=True\n",
    ")\n",
    "\n",
    "# Apply the reducer to compute statistical summaries for each band\n",
    "image_statistics = landsat_image.reduceRegion(\n",
    "    reducer=combined_reducer,\n",
    "    bestEffort=True,\n",
    ")\n",
    "\n",
    "# Print the computed mean and standard deviation values\n",
    "pprint(image_statistics.getInfo())"
   ],
   "metadata": {
    "id": "gbukxvay3v6b"
   }
  },
  {
   "cell_type": "markdown",
   "source": [
    "#### **Reducing an ImageCollection Using Reducers**\n",
    "\n",
    "To compute statistics over a time series of images in an **ImageCollection**, use **`.reduce()`**, which collapses the collection into a single image by applying a specified reducer **pixel-wise**. Each pixel in the output represents the computed statistic across all images at that location.\n",
    "\n",
    "**Example Usage**\n",
    "The following code demonstrates how to:\n",
    "- Compute the **median** of an image collection.\n",
    "- Use different reducers (**mean, sum, variance, percentiles**).\n",
    "- Apply shortcut methods for basic statistics (**min, max, mean**).\n",
    "\n",
    "![reduce](Reduce_ImageCollection.png)"
   ],
   "metadata": {
    "collapsed": false,
    "id": "_87V_tf33v6b"
   }
  },
  {
   "cell_type": "code",
   "execution_count": null,
   "outputs": [],
   "source": [
    "# Load an ImageCollection (example: Landsat 9)\n",
    "imageCollection = ee.ImageCollection('LANDSAT/LC09/C02/T1_TOA') \\\n",
    "    .filterDate('2022-03-01', '2022-04-03') \\\n",
    "    .filterBounds(ee.Geometry.Polygon([\n",
    "        [[-120.0, 35.0], [-120.0, 37.0], [-118.0, 37.0], [-118.0, 35.0]]\n",
    "    ]))\n",
    "\n",
    "# Reduce the collection to a single image using different reducers\n",
    "median_image = imageCollection.reduce(ee.Reducer.median())  # Compute median\n",
    "mean_image = imageCollection.reduce(ee.Reducer.mean())  # Compute mean\n",
    "sum_image = imageCollection.reduce(ee.Reducer.sum())  # Compute sum\n",
    "variance_image = imageCollection.reduce(ee.Reducer.variance())  # Compute variance\n",
    "percentile_image = imageCollection.reduce(ee.Reducer.percentile([25, 75]))  # Compute percentiles\n"
   ],
   "metadata": {
    "id": "_G18Vj3K3v6b"
   }
  },
  {
   "cell_type": "markdown",
   "source": [
    "#### **Combining Reducers to Extract Band Values at a Single Point Over Time**\n",
    "\n",
    "To extract **band values** at a specific point for each image in an **ImageCollection**, we:\n",
    "1. **Apply reducers** (e.g., mean, standard deviation) on a selected band.\n",
    "2. **Use the `.map()` function** to process each image in the collection.\n",
    "3. **Aggregate the results** into an array to retrieve the extracted values over time.\n",
    "\n",
    "This approach allows for efficient **time-series extraction** of multiple statistics at a specific location.\n"
   ],
   "metadata": {
    "collapsed": false,
    "id": "KQnQH7nW3v6b"
   }
  },
  {
   "cell_type": "code",
   "execution_count": null,
   "outputs": [],
   "source": [
    "# Define the point of interest (latitude, longitude)\n",
    "point = ee.Geometry.Point([-119.0, 36.0])\n",
    "\n",
    "# Load a Landsat 9 ImageCollection within a date range\n",
    "collection = ee.ImageCollection('LANDSAT/LC09/C02/T1_TOA') \\\n",
    "    .filterDate('2022-01-01', '2022-12-31') \\\n",
    "    .filterBounds(point)\n",
    "\n",
    "# Function to extract the band value at the point\n",
    "def extract_band_value(image):\n",
    "    band_value = image.select('B5').reduceRegion(\n",
    "        reducer=ee.Reducer.first(),  # Gets the pixel value at the point\n",
    "        geometry=point,\n",
    "        scale=30\n",
    "    )\n",
    "\n",
    "    # Add the extracted band value and date as properties\n",
    "    return image.set('date', image.date().format()).set('B5_Value', band_value.get('B5'))\n",
    "\n",
    "# Apply the function to each image in the collection using the map function\n",
    "collection_with_values = collection.map(extract_band_value)\n",
    "\n",
    "# Extract the time series data by aggregate data over the\n",
    "band_values = collection_with_values.aggregate_array('B5_Value').getInfo()\n",
    "dates_list = collection_with_values.aggregate_array('date').getInfo()\n",
    "\n",
    "# Print the time series values\n",
    "print(\"B5 Time Series:\")\n",
    "for date, value in zip(dates_list, band_values):\n",
    "    print(f\"{date}: {value}\")"
   ],
   "metadata": {
    "id": "ppoIiM0k3v6b"
   }
  },
  {
   "cell_type": "markdown",
   "source": [
    "## **Geometries and Features**\n",
    "\n",
    "Google Earth Engine supports various geometry types for spatial analysis:\n",
    "\n",
    "- **Point** → A single coordinate in a specified projection.\n",
    "- **LineString** → A sequence of connected points forming a line.\n",
    "- **LinearRing** → A closed **LineString**, where the start and end points are the same.\n",
    "- **Polygon** → A list of **LinearRings**, where:\n",
    "  - The **first ring** defines the **outer boundary (shell)**.\n",
    "  - Subsequent rings define **inner holes**.\n",
    "    -\n",
    "These geometry types enable **spatial operations** such as buffering, intersections, and spatial filtering in Earth Engine."
   ],
   "metadata": {
    "collapsed": false,
    "id": "EkO5Gb9e3v6b"
   }
  },
  {
   "cell_type": "code",
   "execution_count": null,
   "outputs": [],
   "source": [
    "# Define a Point geometry (longitude, latitude)\n",
    "point = ee.Geometry.Point([1.5, 1.5])  # Single coordinate location\n",
    "\n",
    "# Define a LineString (a sequence of connected points forming a line)\n",
    "lineString = ee.Geometry.LineString([\n",
    "    [-35, -10],  # Start point (longitude, latitude)\n",
    "    [35, -10],   # Second point\n",
    "    [35, 10],    # Third point\n",
    "    [-35, 10]    # End point\n",
    "])\n",
    "\n",
    "# Define a LinearRing (a closed LineString where the start and end points are the same)\n",
    "linearRing = ee.Geometry.LinearRing([\n",
    "    [-35, -10],  # Start point\n",
    "    [35, -10],   # Second point\n",
    "    [35, 10],    # Third point\n",
    "    [-35, 10],   # Fourth point\n",
    "    [-35, -10]   # Closing the ring (same as the start point)\n",
    "])\n",
    "\n",
    "# Define a Rectangle (bounding box using min long, min lat, max long, max lat)\n",
    "rectangle = ee.Geometry.Rectangle([-40, -20, 40, 20])  # Defines a rectangular bounding box\n",
    "\n",
    "# Define a Polygon (a closed shape with multiple points)\n",
    "polygon = ee.Geometry.Polygon(  [\n",
    "    [ [100.0, 0.0],\n",
    "      [103.0, 0.0],\n",
    "      [103.0, 3.0],\n",
    "      [100.0, 3.0],\n",
    "      [100.0, 0.0]\n",
    "    ],\n",
    "    [\n",
    "      [101.0, 1.0],\n",
    "      [102.0, 2.0],\n",
    "      [102.0, 1.0]\n",
    "    ]\n",
    "  ])\n",
    "\n",
    "# Print the geometries to verify\n",
    "print(\"Point:\", point.getInfo())\n",
    "print(\"LineString:\", lineString.getInfo())\n",
    "print(\"LinearRing:\", linearRing.getInfo())\n",
    "print(\"Rectangle:\", rectangle.getInfo())\n",
    "print(\"Polygon:\", polygon.getInfo())"
   ],
   "metadata": {
    "id": "Uj0AF40o3v6b"
   }
  },
  {
   "cell_type": "markdown",
   "source": [
    "#### **Extracting Information from Geometries in Google Earth Engine**\n",
    "\n",
    "Once a geometry is defined in Earth Engine, various properties can be retrieved, such as:\n",
    "\n",
    "- **Area (`.area()`)** → Computes the area of a polygon in square meters.\n",
    "- **Perimeter (`.length()`)** → Computes the perimeter of a polygon or the length of a LineString.\n",
    "- **Convert to GeoJSON (`.toGeoJSON()`)** → Exports the geometry in GeoJSON format.\n",
    "- **Print Coordinates (`.coordinates()`)** → Retrieves the list of coordinates that define the geometry."
   ],
   "metadata": {
    "collapsed": false,
    "id": "jBJceJYY3v6b"
   }
  },
  {
   "cell_type": "code",
   "execution_count": null,
   "outputs": [],
   "source": [
    "print('Polygon printout: ', polygon.getInfo())\n",
    "\n",
    "# Print polygon area in square kilometers.\n",
    "print('Polygon area: ', polygon.area().divide(1000 * 1000).getInfo())\n",
    "\n",
    "# Print polygon perimeter length in kilometers.\n",
    "print('Polygon perimeter: ', polygon.perimeter().divide(1000).getInfo())\n",
    "\n",
    "# Print the coordinates as lists\n",
    "print('Polygon coordinates: ', polygon.coordinates().getInfo())"
   ],
   "metadata": {
    "id": "PX2bqCxg3v6b"
   }
  },
  {
   "cell_type": "markdown",
   "source": [
    "#### **Geometric Operations in Google Earth Engine**\n",
    "\n",
    "Google Earth Engine allows performing various **geometric operations** on features, such as:\n",
    "\n",
    "- **Buffering (`.buffer()`)** → Expands a point, line, or polygon by a specified distance.\n",
    "- **Intersection (`.intersection()`)** → Computes the overlapping area between two geometries.\n",
    "- **Union (`.union()`)** → Merges two geometries into a single shape.\n",
    "- **Difference (`.difference()`)** → Subtracts one geometry from another.\n"
   ],
   "metadata": {
    "collapsed": false,
    "id": "orpMlV0V3v6b"
   }
  },
  {
   "cell_type": "code",
   "execution_count": null,
   "outputs": [],
   "source": [
    "import geemap\n",
    "# Create a map\n",
    "my_map = geemap.Map()\n",
    "\n",
    "# Define two circular geometries (buffers around points)\n",
    "poly1 = ee.Geometry.Point([-50, 30]).buffer(1e6)  # 1 million meter buffer\n",
    "poly2 = ee.Geometry.Point([-40, 30]).buffer(1e6)  # 1 million meter buffer\n",
    "\n",
    "# Perform geometric operations\n",
    "buffer1 = poly1  # Original buffer\n",
    "buffer2 = poly2  # Original buffer\n",
    "\n",
    "# Intersection of two geometries\n",
    "intersection = poly1.intersection(poly2)\n",
    "\n",
    "# Union (merge both geometries)\n",
    "union = poly1.union(poly2)\n",
    "\n",
    "# Difference (part of poly1 that is not in poly2)\n",
    "difference = poly1.difference(poly2)\n",
    "\n",
    "# Add geometries to the map\n",
    "my_map.addLayer(buffer1, {'color': 'red'}, \"Buffer 1\")\n",
    "my_map.addLayer(buffer2, {'color': 'blue'}, \"Buffer 2\")\n",
    "my_map.addLayer(intersection, {'color': 'green'}, \"Intersection\")\n",
    "my_map.addLayer(union, {'color': 'purple'}, \"Union\")\n",
    "my_map.addLayer(difference, {'color': 'orange'}, \"Difference\")\n",
    "\n",
    "# Display the map\n",
    "my_map"
   ],
   "metadata": {
    "id": "rdkfUf5x3v6b"
   }
  },
  {
   "cell_type": "markdown",
   "source": [
    "#### **Converting a Geometry to a Feature in Google Earth Engine**\n",
    "\n",
    "In Google Earth Engine, you can **convert a geometry into a feature** by adding **attributes (properties)** to it. This means the geometry is no longer just spatial data—it now contains **additional information**.\n",
    "\n",
    "**Key Concept**\n",
    "- A **feature** is essentially a **dictionary** where the **geometry** is just one part of it.\n",
    "- Features allow **storing metadata** such as species names, land cover types, or other relevant properties alongside the geometry.\n"
   ],
   "metadata": {
    "collapsed": false,
    "id": "85lH8wF13v6b"
   }
  },
  {
   "cell_type": "code",
   "execution_count": null,
   "outputs": [],
   "source": [
    "from pprint import pprint\n",
    "\n",
    "# Create a feature with a Point geometry and assign properties\n",
    "feature = ee.Feature(ee.Geometry.Point([-120, 35])) \\\n",
    "    .set('genus', 'Sequoia') \\\n",
    "    .set('year identified', 1999)\n",
    "\n",
    "# Retrieve and print a property from the feature\n",
    "species = feature.get('genus')\n",
    "print(species.getInfo())  # Output: 'sempervirens'\n",
    "\n",
    "# Add a new property to the feature called species\n",
    "feature = feature.set('species', 1)\n",
    "\n",
    "# Display the updated feature information\n",
    "pprint(feature.getInfo())"
   ],
   "metadata": {
    "id": "dSr1XZHD3v6b"
   }
  },
  {
   "cell_type": "markdown",
   "source": [
    "#### **Creating a FeatureCollection in Google Earth Engine**\n",
    "\n",
    "In Google Earth Engine, a **FeatureCollection** is a collection of multiple **features**, where each feature consists of **a geometry and associated attributes**. This is useful for **grouping spatial data** and performing analysis on multiple features at once.\n"
   ],
   "metadata": {
    "collapsed": false,
    "id": "d83OKi1d3v6b"
   }
  },
  {
   "cell_type": "code",
   "execution_count": null,
   "outputs": [],
   "source": [
    "# Make a list of Features.\n",
    "features = [\n",
    "  ee.Feature(ee.Geometry.Rectangle(30.01, 59.80, 30.59, 60.15), {'name': 'Voronoi'}),\n",
    "  ee.Feature(ee.Geometry.Point(-73.96, 40.781), {'name': 'Thiessen'}),\n",
    "  ee.Feature(ee.Geometry.Point(6.4806, 50.8012), {'name': 'Dirichlet'})\n",
    "]\n",
    "\n",
    "# Create a FeatureCollection from the list and print it.\n",
    "fromList = ee.FeatureCollection(features)\n",
    "fromList.getInfo()"
   ],
   "metadata": {
    "id": "FCNwSRnc3v6c"
   }
  },
  {
   "cell_type": "markdown",
   "source": [
    "#### **Visualizing an Entire FeatureCollection in Google Earth Engine**\n",
    "\n",
    "You can also **visualize an entire FeatureCollection** on a map to display all its features at once.\n",
    "Below is an example of all the states in the CONUS as features and we are accessing this through the TIGER dataset."
   ],
   "metadata": {
    "collapsed": false,
    "id": "W2FDqGQ03v6c"
   }
  },
  {
   "cell_type": "code",
   "execution_count": null,
   "outputs": [],
   "source": [
    "Map = geemap.Map(center=[40, -100], zoom=4)\n",
    "states = ee.FeatureCollection(\"TIGER/2018/States\")\n",
    "vis_params = {\n",
    "    'color': '000000',\n",
    "    'colorOpacity': 1,\n",
    "    'pointSize': 3,\n",
    "    'pointShape': 'circle',\n",
    "    'width': 2,\n",
    "    'lineType': 'solid',\n",
    "    'fillColorOpacity': 0.66,\n",
    "}\n",
    "palette = ['006633', 'E5FFCC', '662A00', 'D8D8D8', 'F5F5F5']\n",
    "Map.add_styled_vector(\n",
    "    states, column=\"NAME\", palette=palette, layer_name=\"Styled vector\", **vis_params\n",
    ")\n",
    "Map"
   ],
   "metadata": {
    "id": "Fgi_DLvk3v6c"
   }
  }
 ],
 "metadata": {
  "kernelspec": {
   "display_name": "Python 3",
   "language": "python",
   "name": "python3"
  },
  "language_info": {
   "codemirror_mode": {
    "name": "ipython",
    "version": 2
   },
   "file_extension": ".py",
   "mimetype": "text/x-python",
   "name": "python",
   "nbconvert_exporter": "python",
   "pygments_lexer": "ipython2",
   "version": "2.7.6"
  },
  "colab": {
   "provenance": [],
   "toc_visible": true
  }
 },
 "nbformat": 4,
 "nbformat_minor": 0
}
